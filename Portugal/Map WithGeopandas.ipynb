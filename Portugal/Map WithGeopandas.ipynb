{
 "cells": [
  {
   "cell_type": "code",
   "execution_count": null,
   "metadata": {},
   "outputs": [],
   "source": [
    "#https://github.com/dssg-pt/covid19pt-data/blob/master/notebooks/mapping_tutorial.ipynb"
   ]
  },
  {
   "cell_type": "markdown",
   "metadata": {},
   "source": [
    "# Portugal map using geopandas"
   ]
  },
  {
   "cell_type": "markdown",
   "metadata": {},
   "source": []
  },
  {
   "cell_type": "code",
   "execution_count": 14,
   "metadata": {},
   "outputs": [
    {
     "name": "stdout",
     "output_type": "stream",
     "text": [
      "Collecting geopandas\n",
      "  Using cached geopandas-0.7.0-py2.py3-none-any.whl (928 kB)\n",
      "Requirement already satisfied: pyproj>=2.2.0 in c:\\osgeo4~1\\apps\\python37\\lib\\site-packages (from geopandas) (2.5.0)\n",
      "Requirement already satisfied: shapely in c:\\osgeo4~1\\apps\\python37\\lib\\site-packages (from geopandas) (1.7.0)\n",
      "Requirement already satisfied: pandas>=0.23.0 in c:\\osgeo4~1\\apps\\python37\\lib\\site-packages (from geopandas) (1.0.1)\n",
      "Collecting fiona\n",
      "  Using cached Fiona-1.8.13.post1.tar.gz (1.2 MB)\n"
     ]
    },
    {
     "name": "stderr",
     "output_type": "stream",
     "text": [
      "    ERROR: Command errored out with exit status 1:\n",
      "     command: 'c:\\osgeo4~1\\bin\\python3.exe' -c 'import sys, setuptools, tokenize; sys.argv[0] = '\"'\"'C:\\\\Users\\\\isasi\\\\AppData\\\\Local\\\\Temp\\\\pip-install-v7yg4rcb\\\\fiona\\\\setup.py'\"'\"'; __file__='\"'\"'C:\\\\Users\\\\isasi\\\\AppData\\\\Local\\\\Temp\\\\pip-install-v7yg4rcb\\\\fiona\\\\setup.py'\"'\"';f=getattr(tokenize, '\"'\"'open'\"'\"', open)(__file__);code=f.read().replace('\"'\"'\\r\\n'\"'\"', '\"'\"'\\n'\"'\"');f.close();exec(compile(code, __file__, '\"'\"'exec'\"'\"'))' egg_info --egg-base 'C:\\Users\\isasi\\AppData\\Local\\Temp\\pip-pip-egg-info-gxgk7uhj'\n",
      "         cwd: C:\\Users\\isasi\\AppData\\Local\\Temp\\pip-install-v7yg4rcb\\fiona\\\n",
      "    Complete output (1 lines):\n",
      "    A GDAL API version must be specified. Provide a path to gdal-config using a GDAL_CONFIG environment variable or use a GDAL_VERSION environment variable.\n",
      "    ----------------------------------------\n",
      "ERROR: Command errored out with exit status 1: python setup.py egg_info Check the logs for full command output.\n"
     ]
    }
   ],
   "source": [
    "!pip install geopandas"
   ]
  },
  {
   "cell_type": "code",
   "execution_count": 12,
   "metadata": {},
   "outputs": [
    {
     "ename": "ModuleNotFoundError",
     "evalue": "No module named 'geopandas'",
     "output_type": "error",
     "traceback": [
      "\u001b[1;31m---------------------------------------------------------------------------\u001b[0m",
      "\u001b[1;31mModuleNotFoundError\u001b[0m                       Traceback (most recent call last)",
      "\u001b[1;32m<ipython-input-12-3dcdc8410fda>\u001b[0m in \u001b[0;36m<module>\u001b[1;34m\u001b[0m\n\u001b[1;32m----> 1\u001b[1;33m \u001b[1;32mimport\u001b[0m \u001b[0mgeopandas\u001b[0m\u001b[1;33m\u001b[0m\u001b[0m\n\u001b[0m\u001b[0;32m      2\u001b[0m \u001b[1;32mimport\u001b[0m \u001b[0mmatplotlib\u001b[0m\u001b[1;33m.\u001b[0m\u001b[0mpyplot\u001b[0m \u001b[1;32mas\u001b[0m \u001b[0mplt\u001b[0m\u001b[1;33m\u001b[0m\u001b[0m\n\u001b[0;32m      3\u001b[0m \u001b[1;32mimport\u001b[0m \u001b[0mpandas\u001b[0m \u001b[1;32mas\u001b[0m \u001b[0mpd\u001b[0m\u001b[1;33m\u001b[0m\u001b[0m\n\u001b[0;32m      4\u001b[0m \u001b[1;33m\u001b[0m\u001b[0m\n\u001b[0;32m      5\u001b[0m \u001b[0mget_ipython\u001b[0m\u001b[1;33m(\u001b[0m\u001b[1;33m)\u001b[0m\u001b[1;33m.\u001b[0m\u001b[0mrun_line_magic\u001b[0m\u001b[1;33m(\u001b[0m\u001b[1;34m'matplotlib'\u001b[0m\u001b[1;33m,\u001b[0m \u001b[1;34m'inline'\u001b[0m\u001b[1;33m)\u001b[0m\u001b[1;33m\u001b[0m\u001b[0m\n",
      "\u001b[1;31mModuleNotFoundError\u001b[0m: No module named 'geopandas'"
     ]
    }
   ],
   "source": [
    "import geopandas\n",
    "import matplotlib.pyplot as plt\n",
    "import pandas as pd\n",
    "\n",
    "%matplotlib inline"
   ]
  },
  {
   "cell_type": "code",
   "execution_count": null,
   "metadata": {},
   "outputs": [],
   "source": [
    "PATH_MAP = \"Imagens/\"\n",
    "PATH_DATA = \"Datasets/\""
   ]
  },
  {
   "cell_type": "code",
   "execution_count": null,
   "metadata": {},
   "outputs": [],
   "source": [
    "VARIABLE = \"confirmados\"\n",
    "MAP_NAME = \"Portugal Continental\"\n",
    "\n",
    "NOMENCLATURE = {\n",
    "    MAP_NAME: \"portugal_continental\"\n",
    "}"
   ]
  },
  {
   "cell_type": "code",
   "execution_count": null,
   "metadata": {},
   "outputs": [],
   "source": [
    "# A GeoDataFrame works like a pandas DataFrame.\n",
    "\n",
    "df_map = geopandas.read_file(f\"{PATH_MAP}/{NOMENCLATURE[MAP_NAME]}.shp\")"
   ]
  },
  {
   "cell_type": "code",
   "execution_count": null,
   "metadata": {},
   "outputs": [],
   "source": [
    "df_data = pd.read_csv(f\"{PATH_DATA}covid_casos_zona_portugal.csv\")"
   ]
  },
  {
   "cell_type": "code",
   "execution_count": null,
   "metadata": {},
   "outputs": [],
   "source": [
    "df_data.tail()"
   ]
  },
  {
   "cell_type": "code",
   "execution_count": null,
   "metadata": {},
   "outputs": [],
   "source": [
    "# Let's consider confirmed cases from the most recent date available.\n",
    "\n",
    "df_most_recent_date = df_data.tail(1)"
   ]
  },
  {
   "cell_type": "code",
   "execution_count": null,
   "metadata": {},
   "outputs": [],
   "source": [
    "df_most_recent_date"
   ]
  },
  {
   "cell_type": "code",
   "execution_count": null,
   "metadata": {},
   "outputs": [],
   "source": [
    "confirmed_col = {\n",
    "    \"Alentejo\": df_most_recent_date[\"confirmados_arsalentejo\"].item(),\n",
    "    \"Algarve\": df_most_recent_date[\"confirmados_arsalgarve\"].item(),\n",
    "    \"Centro\": df_most_recent_date[\"confirmados_arscentro\"].item(),\n",
    "    \"Norte\": df_most_recent_date[\"confirmados_arsnorte\"].item(), \n",
    "    \"RLVT\": df_most_recent_date[\"confirmados_arslvt\"].item()\n",
    "}"
   ]
  },
  {
   "cell_type": "code",
   "execution_count": null,
   "metadata": {},
   "outputs": [],
   "source": [
    "# For each regional health administration, let's add the number of confirmed cases in a new column.\n",
    "\n",
    "df_map[VARIABLE] = df_map[\"CCDR\"].map(confirmed_col)"
   ]
  },
  {
   "cell_type": "code",
   "execution_count": null,
   "metadata": {},
   "outputs": [],
   "source": [
    "# Finally, let's generate a choropleth map of a GeoDataFrame with Matplotlib.\n",
    "\n",
    "fig, ax = plt.subplots(figsize=(15,6))\n",
    "\n",
    "ax.set_title(f\"Casos Confirmados em {MAP_NAME}: {df_most_recent_date['data'].item()}\", loc=\"left\", pad=12.0)\n",
    "ax.axis('off')\n",
    "\n",
    "df_map.plot(\n",
    "    column=VARIABLE, \n",
    "    cmap='Blues', \n",
    "    ax=ax,\n",
    "    legend=True,\n",
    "    linewidth=0.5,\n",
    "    edgecolor='0.8'\n",
    ")\n",
    "\n",
    "fig.tight_layout()\n",
    "# plt.savefig('map.png', dpi=300, bbox_inches='tight')\n",
    "plt.show()"
   ]
  },
  {
   "cell_type": "code",
   "execution_count": null,
   "metadata": {},
   "outputs": [],
   "source": []
  }
 ],
 "metadata": {
  "kernelspec": {
   "display_name": "Python 3",
   "language": "python",
   "name": "python3"
  },
  "language_info": {
   "codemirror_mode": {
    "name": "ipython",
    "version": 3
   },
   "file_extension": ".py",
   "mimetype": "text/x-python",
   "name": "python",
   "nbconvert_exporter": "python",
   "pygments_lexer": "ipython3",
   "version": "3.7.0"
  }
 },
 "nbformat": 4,
 "nbformat_minor": 2
}
