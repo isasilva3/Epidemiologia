{
 "cells": [
  {
   "cell_type": "markdown",
   "metadata": {},
   "source": [
    "# UK Map of Confirmed Cases"
   ]
  },
  {
   "cell_type": "code",
   "execution_count": 10,
   "metadata": {},
   "outputs": [],
   "source": [
    "import numpy as np                    \n",
    "import pandas as pd                  \n",
    "import plotly.graph_objects as go    \n",
    "import plotly.io as pio              \n",
    "from geopy.geocoders import Nominatim\n",
    "from geopy.exc import GeocoderTimedOut\n",
    "from IPython.display import display, clear_output\n",
    "\n",
    "pio.templates['shahin'] = pio.to_templated(go.Figure().update_layout(legend=dict(orientation=\"h\",y=1.1, x=.5, xanchor='center'),margin=dict(t=0,r=0,b=0,l=0))).layout.template\n",
    "pio.templates.default = 'shahin'"
   ]
  },
  {
   "cell_type": "markdown",
   "metadata": {},
   "source": [
    "Table with the locations, confirmed cases and latitude and longitude columns that are empty, but will be populated."
   ]
  },
  {
   "cell_type": "code",
   "execution_count": 11,
   "metadata": {},
   "outputs": [
    {
     "data": {
      "text/html": [
       "<div>\n",
       "<style scoped>\n",
       "    .dataframe tbody tr th:only-of-type {\n",
       "        vertical-align: middle;\n",
       "    }\n",
       "\n",
       "    .dataframe tbody tr th {\n",
       "        vertical-align: top;\n",
       "    }\n",
       "\n",
       "    .dataframe thead th {\n",
       "        text-align: right;\n",
       "    }\n",
       "</style>\n",
       "<table border=\"1\" class=\"dataframe\">\n",
       "  <thead>\n",
       "    <tr style=\"text-align: right;\">\n",
       "      <th></th>\n",
       "      <th>local_authority</th>\n",
       "      <th>confirmed_cases</th>\n",
       "      <th>lat</th>\n",
       "      <th>lon</th>\n",
       "    </tr>\n",
       "  </thead>\n",
       "  <tbody>\n",
       "    <tr>\n",
       "      <th>0</th>\n",
       "      <td>Barking and Dagenham</td>\n",
       "      <td>1</td>\n",
       "      <td>NaN</td>\n",
       "      <td>NaN</td>\n",
       "    </tr>\n",
       "    <tr>\n",
       "      <th>1</th>\n",
       "      <td>Barnet</td>\n",
       "      <td>8</td>\n",
       "      <td>NaN</td>\n",
       "      <td>NaN</td>\n",
       "    </tr>\n",
       "    <tr>\n",
       "      <th>2</th>\n",
       "      <td>Barnsley</td>\n",
       "      <td>2</td>\n",
       "      <td>NaN</td>\n",
       "      <td>NaN</td>\n",
       "    </tr>\n",
       "    <tr>\n",
       "      <th>3</th>\n",
       "      <td>Bath and North East Somerset</td>\n",
       "      <td>0</td>\n",
       "      <td>NaN</td>\n",
       "      <td>NaN</td>\n",
       "    </tr>\n",
       "    <tr>\n",
       "      <th>4</th>\n",
       "      <td>Bedford</td>\n",
       "      <td>0</td>\n",
       "      <td>NaN</td>\n",
       "      <td>NaN</td>\n",
       "    </tr>\n",
       "  </tbody>\n",
       "</table>\n",
       "</div>"
      ],
      "text/plain": [
       "                local_authority  confirmed_cases  lat  lon\n",
       "0          Barking and Dagenham                1  NaN  NaN\n",
       "1                        Barnet                8  NaN  NaN\n",
       "2                      Barnsley                2  NaN  NaN\n",
       "3  Bath and North East Somerset                0  NaN  NaN\n",
       "4                       Bedford                0  NaN  NaN"
      ]
     },
     "execution_count": 11,
     "metadata": {},
     "output_type": "execute_result"
    }
   ],
   "source": [
    "data = pd.read_csv('https://shahinrostami.com/datasets/phe_covid_uk.csv')\n",
    "data.head()"
   ]
  },
  {
   "cell_type": "code",
   "execution_count": 12,
   "metadata": {},
   "outputs": [],
   "source": [
    "geolocator = Nominatim(user_agent = \"covid_shahinrostami.com\")"
   ]
  },
  {
   "cell_type": "code",
   "execution_count": 13,
   "metadata": {},
   "outputs": [
    {
     "data": {
      "text/plain": [
       "'Bournemouth, Christchurch and Poole'"
      ]
     },
     "execution_count": 13,
     "metadata": {},
     "output_type": "execute_result"
    }
   ],
   "source": [
    "data.local_authority[10]"
   ]
  },
  {
   "cell_type": "code",
   "execution_count": 14,
   "metadata": {},
   "outputs": [
    {
     "data": {
      "text/plain": [
       "Location(Bournemouth, South West England, England, BH1 2BU, United Kingdom, (50.7194784, -1.8767712, 0.0))"
      ]
     },
     "execution_count": 14,
     "metadata": {},
     "output_type": "execute_result"
    }
   ],
   "source": [
    "location = geolocator.geocode(f\"{data.local_authority[10]}, UK\")\n",
    "location"
   ]
  },
  {
   "cell_type": "code",
   "execution_count": 15,
   "metadata": {},
   "outputs": [
    {
     "name": "stdout",
     "output_type": "stream",
     "text": [
      "50.7194784 -1.8767712\n"
     ]
    }
   ],
   "source": [
    "print(location.latitude, location.longitude)"
   ]
  },
  {
   "cell_type": "markdown",
   "metadata": {},
   "source": [
    "Populating every latitude and longitude values."
   ]
  },
  {
   "cell_type": "code",
   "execution_count": 16,
   "metadata": {},
   "outputs": [
    {
     "data": {
      "text/plain": [
       "'Retrieving locations >|||||||||||||||||||||||||<'"
      ]
     },
     "metadata": {},
     "output_type": "display_data"
    },
    {
     "name": "stdout",
     "output_type": "stream",
     "text": [
      "Done!\n"
     ]
    }
   ],
   "source": [
    "for index, row in data.iterrows():\n",
    "    location = geolocator.geocode(f\"{row.local_authority}, UK\",timeout=100)\n",
    "\n",
    "    data.loc[index,'lat'] = location.latitude \n",
    "    data.loc[index,'lon'] = location.longitude\n",
    "\n",
    "    clear_output(wait = True)\n",
    "    amount_unloaded = np.floor(((data.shape[0]-index)/data.shape[0])*25).astype(int)\n",
    "    amount_loaded = np.ceil((index/data.shape[0])*25).astype(int)\n",
    "    loading = f\"Retrieving locations >{'|'*amount_loaded}{'.'*amount_unloaded}<\"\n",
    "    display(loading)\n",
    "\n",
    "print(\"Done!\")"
   ]
  },
  {
   "cell_type": "markdown",
   "metadata": {},
   "source": [
    "# UK bubble map of confirmed cases "
   ]
  },
  {
   "cell_type": "markdown",
   "metadata": {},
   "source": [
    "The larger bubbles indicate more confirmed cases."
   ]
  },
  {
   "cell_type": "code",
   "execution_count": 17,
   "metadata": {},
   "outputs": [
    {
     "data": {
      "application/vnd.plotly.v1+json": {
       "config": {
        "plotlyServerURL": "https://plot.ly"
       },
       "data": [
        {
         "lat": [
          51.5541171,
          51.65309,
          53.5527719,
          51.35632375,
          52.1363806,
          51.4416793,
          52.4796992,
          53.699176949999995,
          53.8182212,
          53.5782863,
          50.7194784,
          51.4002688,
          53.7944229,
          51.4416354,
          50.845221249999994,
          51.4538022,
          51.4028046,
          51.7834994,
          52.2460367,
          53.720474800000005,
          52.333333,
          51.5423045,
          51.99803275,
          53.1673422,
          53.16379785,
          49.87163645,
          54.68483225,
          52.4081812,
          51.3713049,
          54.6143136,
          54.5242081,
          52.9212617,
          53.1185033,
          50.724165,
          53.5227681,
          50.79683685,
          52.5110832,
          51.5126553,
          53.873596500000005,
          50.9404529,
          51.6520851,
          51.77046785,
          54.9625789,
          51.7643786,
          51.4820845,
          51.5432402,
          53.35385255,
          51.4920377,
          51.04483545,
          51.587929849999995,
          51.5967688,
          54.6857276,
          51.5443687,
          52.083333,
          51.840052299999996,
          51.542519299999995,
          51.4686132,
          50.6710482,
          51.5384287,
          51.4989948,
          51.2474823,
          53.7435722,
          51.4096275,
          53.64226345,
          53.4552358,
          51.5013012,
          53.8611703,
          53.7974185,
          52.6361398,
          52.666667,
          51.4624325,
          53.1823034,
          53.407154,
          51.8784385,
          53.4794892,
          51.4157386,
          51.410802849999996,
          54.5760419,
          52.0429797,
          54.9738474,
          51.52999955,
          52.666667,
          53.53680335,
          53.589744100000004,
          51.39663045,
          55.02979945,
          54.13453275,
          52.25,
          37.9314992,
          52.9534193,
          53.166667,
          53.5415797,
          51.833333,
          52.5725769,
          50.3712659,
          50.8036831,
          51.456659,
          51.5763203,
          54.5679056,
          51.44046095,
          53.6153659,
          53.4310417,
          52.6423036,
          53.4877463,
          52.5151278,
          53.5034122,
          53.3806626,
          52.65233935,
          51.5111014,
          52.4130189,
          51.161750850000004,
          51.54919165,
          54.969874250000004,
          50.9025349,
          51.54063195,
          51.5029222,
          53.4535471,
          52.824694199999996,
          53.407901,
          54.564094,
          53.0162014,
          52.241001350000005,
          54.9058512,
          51.2715316,
          51.3575114,
          51.5613683,
          53.4786454,
          52.72144515,
          51.5080169,
          50.446247,
          51.1288633,
          53.41893605,
          53.6829541,
          52.5847949,
          51.1981586,
          51.4570271,
          53.3899497,
          52.32130635,
          51.44631345,
          50.944698700000004,
          51.5013562,
          53.5457188,
          51.324162,
          51.4803412,
          53.3409714,
          51.4570846,
          52.5847651,
          52.2109495,
          53.9590555
         ],
         "locationmode": "country names",
         "lon": [
          0.15050434261994267,
          -0.2002261,
          -1.4827755,
          -2.486661424502094,
          -0.4675041,
          0.150488,
          -1.9026911,
          -2.4709000953138327,
          -3.0564845,
          -2.4300367,
          -1.8767712,
          -0.7417888011413043,
          -1.7519186,
          0.2345194,
          -0.14975850541139246,
          -2.5972985,
          0.0148142,
          -0.8946440535649794,
          0.7125173,
          -1.9622886329676708,
          0.083333,
          -0.1395604,
          -0.47915142854055964,
          -2.2928802778613573,
          -2.7285361135416943,
          -6.4034597229910695,
          -1.774017169596316,
          -1.510477,
          -0.101957,
          -2.9420983340597866,
          -1.5555812,
          -1.4761491,
          -1.5566179305872212,
          -3.660795843955193,
          -1.1335312,
          -2.34473226124306,
          -2.0816813,
          -0.3051952,
          -0.5347787525091569,
          0.3699899035008595,
          -0.0810175,
          0.46466977412300386,
          -1.6019294,
          -2.1880661838719386,
          -0.0045417,
          -0.0493621,
          -2.7427828785393507,
          -0.2236401,
          -1.2434093603442158,
          -0.10541010599099046,
          -0.33727515543507014,
          -1.2093696,
          -0.1443031798919795,
          -2.75,
          -0.09785519224523963,
          -0.44833493117949663,
          -0.3613471,
          -1.3327111133199459,
          -0.0999051,
          -0.1991229,
          0.7105077,
          -0.3394758,
          -0.3062621,
          -1.7809432689150708,
          -2.8546852,
          -0.117287,
          -2.5650887919475496,
          -1.5437941,
          -1.1330789,
          -1,
          -0.0101331,
          -0.2031208542548153,
          -2.991665,
          -0.4152837,
          -2.2451148,
          0.5687308512408333,
          -0.18809850595572736,
          -1.2344047,
          -0.7589607,
          -1.6131572,
          0.02931796029382208,
          1,
          -0.09368101348534888,
          -0.6023230295256561,
          -2.769128923864108,
          -1.5082559996141889,
          -1.498628491239545,
          -0.833333,
          -76.4836686,
          -1.1496461,
          -1,
          -2.1147831,
          -1.25,
          -0.2427336,
          -4.1425658,
          -1.075614,
          -0.9696512,
          0.0454097,
          -1.0054963165760897,
          -0.3055192359117199,
          -2.1557561,
          -1.355187,
          -0.6632643077026672,
          -2.2891921,
          -2.013562373718973,
          -2.9714708,
          -1.4702278,
          -2.64356407027027,
          -0.5940682,
          -1.7768935,
          -3.0753867062227487,
          -2.4809528173453836,
          -1.4476805465645368,
          -1.404189,
          0.7161146725194144,
          -0.103458,
          -2.7343231,
          -2.0074546723348115,
          -2.160243,
          -1.3129164,
          -2.1812607,
          1.0466830312565236,
          -1.3828727,
          -0.3414523511290909,
          -0.173640122600872,
          -1.7856853,
          -2.0770211633705165,
          -2.500862391509079,
          0.3962817395437666,
          -3.539499814193785,
          1.2986686,
          -2.359297161165271,
          -1.4967286,
          -1.9822687,
          1.0165175,
          -0.1932607,
          -2.5943178,
          -1.5467857874161073,
          -1.2758819554702914,
          -0.5276058236233228,
          -0.1249302,
          -2.6264624,
          -1.9032486699002247,
          -0.6769505204283354,
          -3.0500916,
          -0.8865370303212372,
          -2.127567,
          -2.156955513242221,
          -1.0815361
         ],
         "marker": {
          "color": "rgb(200,0,0)",
          "line": {
           "color": "rgb(122,0,0)",
           "width": 0.5
          },
          "size": [
           10,
           80,
           20,
           0,
           0,
           0,
           10,
           0,
           0,
           30,
           30,
           20,
           10,
           30,
           80,
           20,
           20,
           20,
           30,
           0,
           10,
           50,
           0,
           0,
           0,
           40,
           10,
           30,
           10,
           70,
           0,
           0,
           40,
           130,
           0,
           0,
           10,
           50,
           0,
           0,
           10,
           50,
           0,
           30,
           10,
           30,
           0,
           20,
           100,
           10,
           10,
           0,
           20,
           10,
           160,
           10,
           50,
           10,
           10,
           130,
           50,
           10,
           10,
           0,
           0,
           40,
           40,
           50,
           0,
           20,
           30,
           10,
           50,
           20,
           50,
           20,
           20,
           0,
           20,
           40,
           0,
           0,
           0,
           0,
           10,
           10,
           0,
           50,
           0,
           20,
           50,
           40,
           70,
           10,
           0,
           0,
           0,
           10,
           0,
           10,
           0,
           10,
           0,
           0,
           0,
           0,
           0,
           10,
           10,
           0,
           20,
           0,
           0,
           0,
           10,
           80,
           0,
           40,
           0,
           0,
           0,
           10,
           10,
           60,
           20,
           20,
           10,
           0,
           0,
           70,
           40,
           40,
           0,
           0,
           10,
           30,
           0,
           40,
           0,
           30,
           50,
           30,
           40,
           10,
           10,
           30,
           30,
           0,
           30
          ],
          "sizemode": "area"
         },
         "text": [
          "Barking and Dagenham<br>Confirmed Cases 1",
          "Barnet<br>Confirmed Cases 8",
          "Barnsley<br>Confirmed Cases 2",
          "Bath and North East Somerset<br>Confirmed Cases 0",
          "Bedford<br>Confirmed Cases 0",
          "Bexley<br>Confirmed Cases 0",
          "Birmingham<br>Confirmed Cases 1",
          "Blackburn with Darwen<br>Confirmed Cases 0",
          "Blackpool<br>Confirmed Cases 0",
          "Bolton<br>Confirmed Cases 3",
          "Bournemouth, Christchurch and Poole<br>Confirmed Cases 3",
          "Bracknell Forest<br>Confirmed Cases 2",
          "Bradford<br>Confirmed Cases 1",
          "Brent<br>Confirmed Cases 3",
          "Brighton and Hove<br>Confirmed Cases 8",
          "Bristol, City of<br>Confirmed Cases 2",
          "Bromley<br>Confirmed Cases 2",
          "Buckinghamshire<br>Confirmed Cases 2",
          "Bury<br>Confirmed Cases 3",
          "Calderdale<br>Confirmed Cases 0",
          "Cambridgeshire<br>Confirmed Cases 1",
          "Camden<br>Confirmed Cases 5",
          "Central Bedfordshire<br>Confirmed Cases 0",
          "Cheshire East<br>Confirmed Cases 0",
          "Cheshire West and Chester<br>Confirmed Cases 0",
          "Cornwall and Isles of Scilly<br>Confirmed Cases 4",
          "County Durham<br>Confirmed Cases 1",
          "Coventry<br>Confirmed Cases 3",
          "Croydon<br>Confirmed Cases 1",
          "Cumbria<br>Confirmed Cases 7",
          "Darlington<br>Confirmed Cases 0",
          "Derby<br>Confirmed Cases 0",
          "Derbyshire<br>Confirmed Cases 4",
          "Devon<br>Confirmed Cases 13",
          "Doncaster<br>Confirmed Cases 0",
          "Dorset<br>Confirmed Cases 0",
          "Dudley<br>Confirmed Cases 1",
          "Ealing<br>Confirmed Cases 5",
          "East Riding of Yorkshire<br>Confirmed Cases 0",
          "East Sussex<br>Confirmed Cases 0",
          "Enfield<br>Confirmed Cases 1",
          "Essex<br>Confirmed Cases 5",
          "Gateshead<br>Confirmed Cases 0",
          "Gloucestershire<br>Confirmed Cases 3",
          "Greenwich<br>Confirmed Cases 1",
          "Hackney and City of London<br>Confirmed Cases 3",
          "Halton<br>Confirmed Cases 0",
          "Hammersmith and Fulham<br>Confirmed Cases 2",
          "Hampshire<br>Confirmed Cases 10",
          "Haringey<br>Confirmed Cases 1",
          "Harrow<br>Confirmed Cases 1",
          "Hartlepool<br>Confirmed Cases 0",
          "Havering<br>Confirmed Cases 2",
          "Herefordshire, County of<br>Confirmed Cases 1",
          "Hertfordshire<br>Confirmed Cases 16",
          "Hillingdon<br>Confirmed Cases 1",
          "Hounslow<br>Confirmed Cases 5",
          "Isle of Wight<br>Confirmed Cases 1",
          "Islington<br>Confirmed Cases 1",
          "Kensington and Chelsea<br>Confirmed Cases 13",
          "Kent<br>Confirmed Cases 5",
          "Kingston upon Hull, City of<br>Confirmed Cases 1",
          "Kingston upon Thames<br>Confirmed Cases 1",
          "Kirklees<br>Confirmed Cases 0",
          "Knowsley<br>Confirmed Cases 0",
          "Lambeth<br>Confirmed Cases 4",
          "Lancashire<br>Confirmed Cases 4",
          "Leeds<br>Confirmed Cases 5",
          "Leicester<br>Confirmed Cases 0",
          "Leicestershire<br>Confirmed Cases 2",
          "Lewisham<br>Confirmed Cases 3",
          "Lincolnshire<br>Confirmed Cases 1",
          "Liverpool<br>Confirmed Cases 5",
          "Luton<br>Confirmed Cases 2",
          "Manchester<br>Confirmed Cases 5",
          "Medway<br>Confirmed Cases 2",
          "Merton<br>Confirmed Cases 2",
          "Middlesbrough<br>Confirmed Cases 0",
          "Milton Keynes<br>Confirmed Cases 2",
          "Newcastle upon Tyne<br>Confirmed Cases 4",
          "Newham<br>Confirmed Cases 0",
          "Norfolk<br>Confirmed Cases 0",
          "North East Lincolnshire<br>Confirmed Cases 0",
          "North Lincolnshire<br>Confirmed Cases 0",
          "North Somerset<br>Confirmed Cases 1",
          "North Tyneside<br>Confirmed Cases 1",
          "North Yorkshire<br>Confirmed Cases 0",
          "Northamptonshire<br>Confirmed Cases 5",
          "Northumberland<br>Confirmed Cases 0",
          "Nottingham<br>Confirmed Cases 2",
          "Nottinghamshire<br>Confirmed Cases 5",
          "Oldham<br>Confirmed Cases 4",
          "Oxfordshire<br>Confirmed Cases 7",
          "Peterborough<br>Confirmed Cases 1",
          "Plymouth<br>Confirmed Cases 0",
          "Portsmouth<br>Confirmed Cases 0",
          "Reading<br>Confirmed Cases 0",
          "Redbridge<br>Confirmed Cases 1",
          "Redcar and Cleveland<br>Confirmed Cases 0",
          "Richmond upon Thames<br>Confirmed Cases 1",
          "Rochdale<br>Confirmed Cases 0",
          "Rotherham<br>Confirmed Cases 1",
          "Rutland<br>Confirmed Cases 0",
          "Salford<br>Confirmed Cases 0",
          "Sandwell<br>Confirmed Cases 0",
          "Sefton<br>Confirmed Cases 0",
          "Sheffield<br>Confirmed Cases 0",
          "Shropshire<br>Confirmed Cases 1",
          "Slough<br>Confirmed Cases 1",
          "Solihull<br>Confirmed Cases 0",
          "Somerset<br>Confirmed Cases 2",
          "South Gloucestershire<br>Confirmed Cases 0",
          "South Tyneside<br>Confirmed Cases 0",
          "Southampton<br>Confirmed Cases 0",
          "Southend-on-Sea<br>Confirmed Cases 1",
          "Southwark<br>Confirmed Cases 8",
          "St. Helens<br>Confirmed Cases 0",
          "Staffordshire<br>Confirmed Cases 4",
          "Stockport<br>Confirmed Cases 0",
          "Stockton-on-Tees<br>Confirmed Cases 0",
          "Stoke-on-Trent<br>Confirmed Cases 0",
          "Suffolk<br>Confirmed Cases 1",
          "Sunderland<br>Confirmed Cases 1",
          "Surrey<br>Confirmed Cases 6",
          "Sutton<br>Confirmed Cases 2",
          "Swindon<br>Confirmed Cases 2",
          "Tameside<br>Confirmed Cases 1",
          "Telford and Wrekin<br>Confirmed Cases 0",
          "Thurrock<br>Confirmed Cases 0",
          "Torbay<br>Confirmed Cases 7",
          "Tower Hamlets<br>Confirmed Cases 4",
          "Trafford<br>Confirmed Cases 4",
          "Wakefield<br>Confirmed Cases 0",
          "Walsall<br>Confirmed Cases 0",
          "Waltham Forest<br>Confirmed Cases 1",
          "Wandsworth<br>Confirmed Cases 3",
          "Warrington<br>Confirmed Cases 0",
          "Warwickshire<br>Confirmed Cases 4",
          "West Berkshire<br>Confirmed Cases 0",
          "West Sussex<br>Confirmed Cases 3",
          "Westminster<br>Confirmed Cases 5",
          "Wigan<br>Confirmed Cases 3",
          "Wiltshire<br>Confirmed Cases 4",
          "Windsor and Maidenhead<br>Confirmed Cases 1",
          "Wirral<br>Confirmed Cases 1",
          "Wokingham<br>Confirmed Cases 3",
          "Wolverhampton<br>Confirmed Cases 3",
          "Worcestershire<br>Confirmed Cases 0",
          "York<br>Confirmed Cases 3"
         ],
         "type": "scattergeo"
        }
       ],
       "layout": {
        "geo": {
         "center": {
          "lat": 46.480649325,
          "lon": -37.5925
         },
         "landcolor": "rgb(217, 217, 217)",
         "projection": {
          "scale": 8,
          "type": "azimuthal equal area"
         },
         "resolution": 50,
         "scope": "europe",
         "showocean": true
        },
        "template": {
         "data": {
          "bar": [
           {
            "error_x": {
             "color": "#2a3f5f"
            },
            "error_y": {
             "color": "#2a3f5f"
            },
            "marker": {
             "line": {
              "color": "#E5ECF6",
              "width": 0.5
             }
            },
            "type": "bar"
           }
          ],
          "barpolar": [
           {
            "marker": {
             "line": {
              "color": "#E5ECF6",
              "width": 0.5
             }
            },
            "type": "barpolar"
           }
          ],
          "carpet": [
           {
            "aaxis": {
             "endlinecolor": "#2a3f5f",
             "gridcolor": "white",
             "linecolor": "white",
             "minorgridcolor": "white",
             "startlinecolor": "#2a3f5f"
            },
            "baxis": {
             "endlinecolor": "#2a3f5f",
             "gridcolor": "white",
             "linecolor": "white",
             "minorgridcolor": "white",
             "startlinecolor": "#2a3f5f"
            },
            "type": "carpet"
           }
          ],
          "choropleth": [
           {
            "colorbar": {
             "outlinewidth": 0,
             "ticks": ""
            },
            "type": "choropleth"
           }
          ],
          "contour": [
           {
            "colorbar": {
             "outlinewidth": 0,
             "ticks": ""
            },
            "colorscale": [
             [
              0,
              "#0d0887"
             ],
             [
              0.1111111111111111,
              "#46039f"
             ],
             [
              0.2222222222222222,
              "#7201a8"
             ],
             [
              0.3333333333333333,
              "#9c179e"
             ],
             [
              0.4444444444444444,
              "#bd3786"
             ],
             [
              0.5555555555555556,
              "#d8576b"
             ],
             [
              0.6666666666666666,
              "#ed7953"
             ],
             [
              0.7777777777777778,
              "#fb9f3a"
             ],
             [
              0.8888888888888888,
              "#fdca26"
             ],
             [
              1,
              "#f0f921"
             ]
            ],
            "type": "contour"
           }
          ],
          "contourcarpet": [
           {
            "colorbar": {
             "outlinewidth": 0,
             "ticks": ""
            },
            "type": "contourcarpet"
           }
          ],
          "heatmap": [
           {
            "colorbar": {
             "outlinewidth": 0,
             "ticks": ""
            },
            "colorscale": [
             [
              0,
              "#0d0887"
             ],
             [
              0.1111111111111111,
              "#46039f"
             ],
             [
              0.2222222222222222,
              "#7201a8"
             ],
             [
              0.3333333333333333,
              "#9c179e"
             ],
             [
              0.4444444444444444,
              "#bd3786"
             ],
             [
              0.5555555555555556,
              "#d8576b"
             ],
             [
              0.6666666666666666,
              "#ed7953"
             ],
             [
              0.7777777777777778,
              "#fb9f3a"
             ],
             [
              0.8888888888888888,
              "#fdca26"
             ],
             [
              1,
              "#f0f921"
             ]
            ],
            "type": "heatmap"
           }
          ],
          "heatmapgl": [
           {
            "colorbar": {
             "outlinewidth": 0,
             "ticks": ""
            },
            "colorscale": [
             [
              0,
              "#0d0887"
             ],
             [
              0.1111111111111111,
              "#46039f"
             ],
             [
              0.2222222222222222,
              "#7201a8"
             ],
             [
              0.3333333333333333,
              "#9c179e"
             ],
             [
              0.4444444444444444,
              "#bd3786"
             ],
             [
              0.5555555555555556,
              "#d8576b"
             ],
             [
              0.6666666666666666,
              "#ed7953"
             ],
             [
              0.7777777777777778,
              "#fb9f3a"
             ],
             [
              0.8888888888888888,
              "#fdca26"
             ],
             [
              1,
              "#f0f921"
             ]
            ],
            "type": "heatmapgl"
           }
          ],
          "histogram": [
           {
            "marker": {
             "colorbar": {
              "outlinewidth": 0,
              "ticks": ""
             }
            },
            "type": "histogram"
           }
          ],
          "histogram2d": [
           {
            "colorbar": {
             "outlinewidth": 0,
             "ticks": ""
            },
            "colorscale": [
             [
              0,
              "#0d0887"
             ],
             [
              0.1111111111111111,
              "#46039f"
             ],
             [
              0.2222222222222222,
              "#7201a8"
             ],
             [
              0.3333333333333333,
              "#9c179e"
             ],
             [
              0.4444444444444444,
              "#bd3786"
             ],
             [
              0.5555555555555556,
              "#d8576b"
             ],
             [
              0.6666666666666666,
              "#ed7953"
             ],
             [
              0.7777777777777778,
              "#fb9f3a"
             ],
             [
              0.8888888888888888,
              "#fdca26"
             ],
             [
              1,
              "#f0f921"
             ]
            ],
            "type": "histogram2d"
           }
          ],
          "histogram2dcontour": [
           {
            "colorbar": {
             "outlinewidth": 0,
             "ticks": ""
            },
            "colorscale": [
             [
              0,
              "#0d0887"
             ],
             [
              0.1111111111111111,
              "#46039f"
             ],
             [
              0.2222222222222222,
              "#7201a8"
             ],
             [
              0.3333333333333333,
              "#9c179e"
             ],
             [
              0.4444444444444444,
              "#bd3786"
             ],
             [
              0.5555555555555556,
              "#d8576b"
             ],
             [
              0.6666666666666666,
              "#ed7953"
             ],
             [
              0.7777777777777778,
              "#fb9f3a"
             ],
             [
              0.8888888888888888,
              "#fdca26"
             ],
             [
              1,
              "#f0f921"
             ]
            ],
            "type": "histogram2dcontour"
           }
          ],
          "mesh3d": [
           {
            "colorbar": {
             "outlinewidth": 0,
             "ticks": ""
            },
            "type": "mesh3d"
           }
          ],
          "parcoords": [
           {
            "line": {
             "colorbar": {
              "outlinewidth": 0,
              "ticks": ""
             }
            },
            "type": "parcoords"
           }
          ],
          "pie": [
           {
            "automargin": true,
            "type": "pie"
           }
          ],
          "scatter": [
           {
            "marker": {
             "colorbar": {
              "outlinewidth": 0,
              "ticks": ""
             }
            },
            "type": "scatter"
           }
          ],
          "scatter3d": [
           {
            "line": {
             "colorbar": {
              "outlinewidth": 0,
              "ticks": ""
             }
            },
            "marker": {
             "colorbar": {
              "outlinewidth": 0,
              "ticks": ""
             }
            },
            "type": "scatter3d"
           }
          ],
          "scattercarpet": [
           {
            "marker": {
             "colorbar": {
              "outlinewidth": 0,
              "ticks": ""
             }
            },
            "type": "scattercarpet"
           }
          ],
          "scattergeo": [
           {
            "marker": {
             "colorbar": {
              "outlinewidth": 0,
              "ticks": ""
             }
            },
            "type": "scattergeo"
           }
          ],
          "scattergl": [
           {
            "marker": {
             "colorbar": {
              "outlinewidth": 0,
              "ticks": ""
             }
            },
            "type": "scattergl"
           }
          ],
          "scattermapbox": [
           {
            "marker": {
             "colorbar": {
              "outlinewidth": 0,
              "ticks": ""
             }
            },
            "type": "scattermapbox"
           }
          ],
          "scatterpolar": [
           {
            "marker": {
             "colorbar": {
              "outlinewidth": 0,
              "ticks": ""
             }
            },
            "type": "scatterpolar"
           }
          ],
          "scatterpolargl": [
           {
            "marker": {
             "colorbar": {
              "outlinewidth": 0,
              "ticks": ""
             }
            },
            "type": "scatterpolargl"
           }
          ],
          "scatterternary": [
           {
            "marker": {
             "colorbar": {
              "outlinewidth": 0,
              "ticks": ""
             }
            },
            "type": "scatterternary"
           }
          ],
          "surface": [
           {
            "colorbar": {
             "outlinewidth": 0,
             "ticks": ""
            },
            "colorscale": [
             [
              0,
              "#0d0887"
             ],
             [
              0.1111111111111111,
              "#46039f"
             ],
             [
              0.2222222222222222,
              "#7201a8"
             ],
             [
              0.3333333333333333,
              "#9c179e"
             ],
             [
              0.4444444444444444,
              "#bd3786"
             ],
             [
              0.5555555555555556,
              "#d8576b"
             ],
             [
              0.6666666666666666,
              "#ed7953"
             ],
             [
              0.7777777777777778,
              "#fb9f3a"
             ],
             [
              0.8888888888888888,
              "#fdca26"
             ],
             [
              1,
              "#f0f921"
             ]
            ],
            "type": "surface"
           }
          ],
          "table": [
           {
            "cells": {
             "fill": {
              "color": "#EBF0F8"
             },
             "line": {
              "color": "white"
             }
            },
            "header": {
             "fill": {
              "color": "#C8D4E3"
             },
             "line": {
              "color": "white"
             }
            },
            "type": "table"
           }
          ]
         },
         "layout": {
          "annotationdefaults": {
           "arrowcolor": "#2a3f5f",
           "arrowhead": 0,
           "arrowwidth": 1
          },
          "coloraxis": {
           "colorbar": {
            "outlinewidth": 0,
            "ticks": ""
           }
          },
          "colorscale": {
           "diverging": [
            [
             0,
             "#8e0152"
            ],
            [
             0.1,
             "#c51b7d"
            ],
            [
             0.2,
             "#de77ae"
            ],
            [
             0.3,
             "#f1b6da"
            ],
            [
             0.4,
             "#fde0ef"
            ],
            [
             0.5,
             "#f7f7f7"
            ],
            [
             0.6,
             "#e6f5d0"
            ],
            [
             0.7,
             "#b8e186"
            ],
            [
             0.8,
             "#7fbc41"
            ],
            [
             0.9,
             "#4d9221"
            ],
            [
             1,
             "#276419"
            ]
           ],
           "sequential": [
            [
             0,
             "#0d0887"
            ],
            [
             0.1111111111111111,
             "#46039f"
            ],
            [
             0.2222222222222222,
             "#7201a8"
            ],
            [
             0.3333333333333333,
             "#9c179e"
            ],
            [
             0.4444444444444444,
             "#bd3786"
            ],
            [
             0.5555555555555556,
             "#d8576b"
            ],
            [
             0.6666666666666666,
             "#ed7953"
            ],
            [
             0.7777777777777778,
             "#fb9f3a"
            ],
            [
             0.8888888888888888,
             "#fdca26"
            ],
            [
             1,
             "#f0f921"
            ]
           ],
           "sequentialminus": [
            [
             0,
             "#0d0887"
            ],
            [
             0.1111111111111111,
             "#46039f"
            ],
            [
             0.2222222222222222,
             "#7201a8"
            ],
            [
             0.3333333333333333,
             "#9c179e"
            ],
            [
             0.4444444444444444,
             "#bd3786"
            ],
            [
             0.5555555555555556,
             "#d8576b"
            ],
            [
             0.6666666666666666,
             "#ed7953"
            ],
            [
             0.7777777777777778,
             "#fb9f3a"
            ],
            [
             0.8888888888888888,
             "#fdca26"
            ],
            [
             1,
             "#f0f921"
            ]
           ]
          },
          "colorway": [
           "#636efa",
           "#EF553B",
           "#00cc96",
           "#ab63fa",
           "#FFA15A",
           "#19d3f3",
           "#FF6692",
           "#B6E880",
           "#FF97FF",
           "#FECB52"
          ],
          "font": {
           "color": "#2a3f5f"
          },
          "geo": {
           "bgcolor": "white",
           "lakecolor": "white",
           "landcolor": "#E5ECF6",
           "showlakes": true,
           "showland": true,
           "subunitcolor": "white"
          },
          "hoverlabel": {
           "align": "left"
          },
          "hovermode": "closest",
          "legend": {
           "orientation": "h",
           "x": 0.5,
           "xanchor": "center",
           "y": 1.1
          },
          "mapbox": {
           "style": "light"
          },
          "margin": {
           "b": 0,
           "l": 0,
           "r": 0,
           "t": 0
          },
          "paper_bgcolor": "white",
          "plot_bgcolor": "#E5ECF6",
          "polar": {
           "angularaxis": {
            "gridcolor": "white",
            "linecolor": "white",
            "ticks": ""
           },
           "bgcolor": "#E5ECF6",
           "radialaxis": {
            "gridcolor": "white",
            "linecolor": "white",
            "ticks": ""
           }
          },
          "scene": {
           "xaxis": {
            "backgroundcolor": "#E5ECF6",
            "gridcolor": "white",
            "gridwidth": 2,
            "linecolor": "white",
            "showbackground": true,
            "ticks": "",
            "zerolinecolor": "white"
           },
           "yaxis": {
            "backgroundcolor": "#E5ECF6",
            "gridcolor": "white",
            "gridwidth": 2,
            "linecolor": "white",
            "showbackground": true,
            "ticks": "",
            "zerolinecolor": "white"
           },
           "zaxis": {
            "backgroundcolor": "#E5ECF6",
            "gridcolor": "white",
            "gridwidth": 2,
            "linecolor": "white",
            "showbackground": true,
            "ticks": "",
            "zerolinecolor": "white"
           }
          },
          "shapedefaults": {
           "line": {
            "color": "#2a3f5f"
           }
          },
          "ternary": {
           "aaxis": {
            "gridcolor": "white",
            "linecolor": "white",
            "ticks": ""
           },
           "baxis": {
            "gridcolor": "white",
            "linecolor": "white",
            "ticks": ""
           },
           "bgcolor": "#E5ECF6",
           "caxis": {
            "gridcolor": "white",
            "linecolor": "white",
            "ticks": ""
           }
          },
          "title": {
           "x": 0.05
          },
          "xaxis": {
           "automargin": true,
           "gridcolor": "white",
           "linecolor": "white",
           "ticks": "",
           "title": {
            "standoff": 15
           },
           "zerolinecolor": "white",
           "zerolinewidth": 2
          },
          "yaxis": {
           "automargin": true,
           "gridcolor": "white",
           "linecolor": "white",
           "ticks": "",
           "title": {
            "standoff": 15
           },
           "zerolinecolor": "white",
           "zerolinewidth": 2
          }
         }
        }
       }
      },
      "text/html": [
       "<div>\n",
       "        \n",
       "        \n",
       "            <div id=\"043d1ae9-70fb-4693-aeea-cadaf30a482a\" class=\"plotly-graph-div\" style=\"height:525px; width:100%;\"></div>\n",
       "            <script type=\"text/javascript\">\n",
       "                require([\"plotly\"], function(Plotly) {\n",
       "                    window.PLOTLYENV=window.PLOTLYENV || {};\n",
       "                    \n",
       "                if (document.getElementById(\"043d1ae9-70fb-4693-aeea-cadaf30a482a\")) {\n",
       "                    Plotly.newPlot(\n",
       "                        '043d1ae9-70fb-4693-aeea-cadaf30a482a',\n",
       "                        [{\"lat\": [51.5541171, 51.65309, 53.5527719, 51.35632375, 52.1363806, 51.4416793, 52.4796992, 53.699176949999995, 53.8182212, 53.5782863, 50.7194784, 51.4002688, 53.7944229, 51.4416354, 50.845221249999994, 51.4538022, 51.4028046, 51.7834994, 52.2460367, 53.720474800000005, 52.333333, 51.5423045, 51.99803275, 53.1673422, 53.16379785, 49.87163645, 54.68483225, 52.4081812, 51.3713049, 54.6143136, 54.5242081, 52.9212617, 53.1185033, 50.724165, 53.5227681, 50.79683685, 52.5110832, 51.5126553, 53.873596500000005, 50.9404529, 51.6520851, 51.77046785, 54.9625789, 51.7643786, 51.4820845, 51.5432402, 53.35385255, 51.4920377, 51.04483545, 51.587929849999995, 51.5967688, 54.6857276, 51.5443687, 52.083333, 51.840052299999996, 51.542519299999995, 51.4686132, 50.6710482, 51.5384287, 51.4989948, 51.2474823, 53.7435722, 51.4096275, 53.64226345, 53.4552358, 51.5013012, 53.8611703, 53.7974185, 52.6361398, 52.666667, 51.4624325, 53.1823034, 53.407154, 51.8784385, 53.4794892, 51.4157386, 51.410802849999996, 54.5760419, 52.0429797, 54.9738474, 51.52999955, 52.666667, 53.53680335, 53.589744100000004, 51.39663045, 55.02979945, 54.13453275, 52.25, 37.9314992, 52.9534193, 53.166667, 53.5415797, 51.833333, 52.5725769, 50.3712659, 50.8036831, 51.456659, 51.5763203, 54.5679056, 51.44046095, 53.6153659, 53.4310417, 52.6423036, 53.4877463, 52.5151278, 53.5034122, 53.3806626, 52.65233935, 51.5111014, 52.4130189, 51.161750850000004, 51.54919165, 54.969874250000004, 50.9025349, 51.54063195, 51.5029222, 53.4535471, 52.824694199999996, 53.407901, 54.564094, 53.0162014, 52.241001350000005, 54.9058512, 51.2715316, 51.3575114, 51.5613683, 53.4786454, 52.72144515, 51.5080169, 50.446247, 51.1288633, 53.41893605, 53.6829541, 52.5847949, 51.1981586, 51.4570271, 53.3899497, 52.32130635, 51.44631345, 50.944698700000004, 51.5013562, 53.5457188, 51.324162, 51.4803412, 53.3409714, 51.4570846, 52.5847651, 52.2109495, 53.9590555], \"locationmode\": \"country names\", \"lon\": [0.15050434261994267, -0.2002261, -1.4827755, -2.486661424502094, -0.4675041, 0.150488, -1.9026911, -2.4709000953138327, -3.0564845, -2.4300367, -1.8767712, -0.7417888011413043, -1.7519186, 0.2345194, -0.14975850541139246, -2.5972985, 0.0148142, -0.8946440535649794, 0.7125173, -1.9622886329676708, 0.083333, -0.1395604, -0.47915142854055964, -2.2928802778613573, -2.7285361135416943, -6.4034597229910695, -1.774017169596316, -1.510477, -0.101957, -2.9420983340597866, -1.5555812, -1.4761491, -1.5566179305872212, -3.660795843955193, -1.1335312, -2.34473226124306, -2.0816813, -0.3051952, -0.5347787525091569, 0.3699899035008595, -0.0810175, 0.46466977412300386, -1.6019294, -2.1880661838719386, -0.0045417, -0.0493621, -2.7427828785393507, -0.2236401, -1.2434093603442158, -0.10541010599099046, -0.33727515543507014, -1.2093696, -0.1443031798919795, -2.75, -0.09785519224523963, -0.44833493117949663, -0.3613471, -1.3327111133199459, -0.0999051, -0.1991229, 0.7105077, -0.3394758, -0.3062621, -1.7809432689150708, -2.8546852, -0.117287, -2.5650887919475496, -1.5437941, -1.1330789, -1.0, -0.0101331, -0.2031208542548153, -2.991665, -0.4152837, -2.2451148, 0.5687308512408333, -0.18809850595572736, -1.2344047, -0.7589607, -1.6131572, 0.02931796029382208, 1.0, -0.09368101348534888, -0.6023230295256561, -2.769128923864108, -1.5082559996141889, -1.498628491239545, -0.833333, -76.4836686, -1.1496461, -1.0, -2.1147831, -1.25, -0.2427336, -4.1425658, -1.075614, -0.9696512, 0.0454097, -1.0054963165760897, -0.3055192359117199, -2.1557561, -1.355187, -0.6632643077026672, -2.2891921, -2.013562373718973, -2.9714708, -1.4702278, -2.64356407027027, -0.5940682, -1.7768935, -3.0753867062227487, -2.4809528173453836, -1.4476805465645368, -1.404189, 0.7161146725194144, -0.103458, -2.7343231, -2.0074546723348115, -2.160243, -1.3129164, -2.1812607, 1.0466830312565236, -1.3828727, -0.3414523511290909, -0.173640122600872, -1.7856853, -2.0770211633705165, -2.500862391509079, 0.3962817395437666, -3.539499814193785, 1.2986686, -2.359297161165271, -1.4967286, -1.9822687, 1.0165175, -0.1932607, -2.5943178, -1.5467857874161073, -1.2758819554702914, -0.5276058236233228, -0.1249302, -2.6264624, -1.9032486699002247, -0.6769505204283354, -3.0500916, -0.8865370303212372, -2.127567, -2.156955513242221, -1.0815361], \"marker\": {\"color\": \"rgb(200,0,0)\", \"line\": {\"color\": \"rgb(122,0,0)\", \"width\": 0.5}, \"size\": [10.0, 80.0, 20.0, 0.0, 0.0, 0.0, 10.0, 0.0, 0.0, 30.0, 30.0, 20.0, 10.0, 30.0, 80.0, 20.0, 20.0, 20.0, 30.0, 0.0, 10.0, 50.0, 0.0, 0.0, 0.0, 40.0, 10.0, 30.0, 10.0, 70.0, 0.0, 0.0, 40.0, 130.0, 0.0, 0.0, 10.0, 50.0, 0.0, 0.0, 10.0, 50.0, 0.0, 30.0, 10.0, 30.0, 0.0, 20.0, 100.0, 10.0, 10.0, 0.0, 20.0, 10.0, 160.0, 10.0, 50.0, 10.0, 10.0, 130.0, 50.0, 10.0, 10.0, 0.0, 0.0, 40.0, 40.0, 50.0, 0.0, 20.0, 30.0, 10.0, 50.0, 20.0, 50.0, 20.0, 20.0, 0.0, 20.0, 40.0, 0.0, 0.0, 0.0, 0.0, 10.0, 10.0, 0.0, 50.0, 0.0, 20.0, 50.0, 40.0, 70.0, 10.0, 0.0, 0.0, 0.0, 10.0, 0.0, 10.0, 0.0, 10.0, 0.0, 0.0, 0.0, 0.0, 0.0, 10.0, 10.0, 0.0, 20.0, 0.0, 0.0, 0.0, 10.0, 80.0, 0.0, 40.0, 0.0, 0.0, 0.0, 10.0, 10.0, 60.0, 20.0, 20.0, 10.0, 0.0, 0.0, 70.0, 40.0, 40.0, 0.0, 0.0, 10.0, 30.0, 0.0, 40.0, 0.0, 30.0, 50.0, 30.0, 40.0, 10.0, 10.0, 30.0, 30.0, 0.0, 30.0], \"sizemode\": \"area\"}, \"text\": [\"Barking and Dagenham<br>Confirmed Cases 1\", \"Barnet<br>Confirmed Cases 8\", \"Barnsley<br>Confirmed Cases 2\", \"Bath and North East Somerset<br>Confirmed Cases 0\", \"Bedford<br>Confirmed Cases 0\", \"Bexley<br>Confirmed Cases 0\", \"Birmingham<br>Confirmed Cases 1\", \"Blackburn with Darwen<br>Confirmed Cases 0\", \"Blackpool<br>Confirmed Cases 0\", \"Bolton<br>Confirmed Cases 3\", \"Bournemouth, Christchurch and Poole<br>Confirmed Cases 3\", \"Bracknell Forest<br>Confirmed Cases 2\", \"Bradford<br>Confirmed Cases 1\", \"Brent<br>Confirmed Cases 3\", \"Brighton and Hove<br>Confirmed Cases 8\", \"Bristol, City of<br>Confirmed Cases 2\", \"Bromley<br>Confirmed Cases 2\", \"Buckinghamshire<br>Confirmed Cases 2\", \"Bury<br>Confirmed Cases 3\", \"Calderdale<br>Confirmed Cases 0\", \"Cambridgeshire<br>Confirmed Cases 1\", \"Camden<br>Confirmed Cases 5\", \"Central Bedfordshire<br>Confirmed Cases 0\", \"Cheshire East<br>Confirmed Cases 0\", \"Cheshire West and Chester<br>Confirmed Cases 0\", \"Cornwall and Isles of Scilly<br>Confirmed Cases 4\", \"County Durham<br>Confirmed Cases 1\", \"Coventry<br>Confirmed Cases 3\", \"Croydon<br>Confirmed Cases 1\", \"Cumbria<br>Confirmed Cases 7\", \"Darlington<br>Confirmed Cases 0\", \"Derby<br>Confirmed Cases 0\", \"Derbyshire<br>Confirmed Cases 4\", \"Devon<br>Confirmed Cases 13\", \"Doncaster<br>Confirmed Cases 0\", \"Dorset<br>Confirmed Cases 0\", \"Dudley<br>Confirmed Cases 1\", \"Ealing<br>Confirmed Cases 5\", \"East Riding of Yorkshire<br>Confirmed Cases 0\", \"East Sussex<br>Confirmed Cases 0\", \"Enfield<br>Confirmed Cases 1\", \"Essex<br>Confirmed Cases 5\", \"Gateshead<br>Confirmed Cases 0\", \"Gloucestershire<br>Confirmed Cases 3\", \"Greenwich<br>Confirmed Cases 1\", \"Hackney and City of London<br>Confirmed Cases 3\", \"Halton<br>Confirmed Cases 0\", \"Hammersmith and Fulham<br>Confirmed Cases 2\", \"Hampshire<br>Confirmed Cases 10\", \"Haringey<br>Confirmed Cases 1\", \"Harrow<br>Confirmed Cases 1\", \"Hartlepool<br>Confirmed Cases 0\", \"Havering<br>Confirmed Cases 2\", \"Herefordshire, County of<br>Confirmed Cases 1\", \"Hertfordshire<br>Confirmed Cases 16\", \"Hillingdon<br>Confirmed Cases 1\", \"Hounslow<br>Confirmed Cases 5\", \"Isle of Wight<br>Confirmed Cases 1\", \"Islington<br>Confirmed Cases 1\", \"Kensington and Chelsea<br>Confirmed Cases 13\", \"Kent<br>Confirmed Cases 5\", \"Kingston upon Hull, City of<br>Confirmed Cases 1\", \"Kingston upon Thames<br>Confirmed Cases 1\", \"Kirklees<br>Confirmed Cases 0\", \"Knowsley<br>Confirmed Cases 0\", \"Lambeth<br>Confirmed Cases 4\", \"Lancashire<br>Confirmed Cases 4\", \"Leeds<br>Confirmed Cases 5\", \"Leicester<br>Confirmed Cases 0\", \"Leicestershire<br>Confirmed Cases 2\", \"Lewisham<br>Confirmed Cases 3\", \"Lincolnshire<br>Confirmed Cases 1\", \"Liverpool<br>Confirmed Cases 5\", \"Luton<br>Confirmed Cases 2\", \"Manchester<br>Confirmed Cases 5\", \"Medway<br>Confirmed Cases 2\", \"Merton<br>Confirmed Cases 2\", \"Middlesbrough<br>Confirmed Cases 0\", \"Milton Keynes<br>Confirmed Cases 2\", \"Newcastle upon Tyne<br>Confirmed Cases 4\", \"Newham<br>Confirmed Cases 0\", \"Norfolk<br>Confirmed Cases 0\", \"North East Lincolnshire<br>Confirmed Cases 0\", \"North Lincolnshire<br>Confirmed Cases 0\", \"North Somerset<br>Confirmed Cases 1\", \"North Tyneside<br>Confirmed Cases 1\", \"North Yorkshire<br>Confirmed Cases 0\", \"Northamptonshire<br>Confirmed Cases 5\", \"Northumberland<br>Confirmed Cases 0\", \"Nottingham<br>Confirmed Cases 2\", \"Nottinghamshire<br>Confirmed Cases 5\", \"Oldham<br>Confirmed Cases 4\", \"Oxfordshire<br>Confirmed Cases 7\", \"Peterborough<br>Confirmed Cases 1\", \"Plymouth<br>Confirmed Cases 0\", \"Portsmouth<br>Confirmed Cases 0\", \"Reading<br>Confirmed Cases 0\", \"Redbridge<br>Confirmed Cases 1\", \"Redcar and Cleveland<br>Confirmed Cases 0\", \"Richmond upon Thames<br>Confirmed Cases 1\", \"Rochdale<br>Confirmed Cases 0\", \"Rotherham<br>Confirmed Cases 1\", \"Rutland<br>Confirmed Cases 0\", \"Salford<br>Confirmed Cases 0\", \"Sandwell<br>Confirmed Cases 0\", \"Sefton<br>Confirmed Cases 0\", \"Sheffield<br>Confirmed Cases 0\", \"Shropshire<br>Confirmed Cases 1\", \"Slough<br>Confirmed Cases 1\", \"Solihull<br>Confirmed Cases 0\", \"Somerset<br>Confirmed Cases 2\", \"South Gloucestershire<br>Confirmed Cases 0\", \"South Tyneside<br>Confirmed Cases 0\", \"Southampton<br>Confirmed Cases 0\", \"Southend-on-Sea<br>Confirmed Cases 1\", \"Southwark<br>Confirmed Cases 8\", \"St. Helens<br>Confirmed Cases 0\", \"Staffordshire<br>Confirmed Cases 4\", \"Stockport<br>Confirmed Cases 0\", \"Stockton-on-Tees<br>Confirmed Cases 0\", \"Stoke-on-Trent<br>Confirmed Cases 0\", \"Suffolk<br>Confirmed Cases 1\", \"Sunderland<br>Confirmed Cases 1\", \"Surrey<br>Confirmed Cases 6\", \"Sutton<br>Confirmed Cases 2\", \"Swindon<br>Confirmed Cases 2\", \"Tameside<br>Confirmed Cases 1\", \"Telford and Wrekin<br>Confirmed Cases 0\", \"Thurrock<br>Confirmed Cases 0\", \"Torbay<br>Confirmed Cases 7\", \"Tower Hamlets<br>Confirmed Cases 4\", \"Trafford<br>Confirmed Cases 4\", \"Wakefield<br>Confirmed Cases 0\", \"Walsall<br>Confirmed Cases 0\", \"Waltham Forest<br>Confirmed Cases 1\", \"Wandsworth<br>Confirmed Cases 3\", \"Warrington<br>Confirmed Cases 0\", \"Warwickshire<br>Confirmed Cases 4\", \"West Berkshire<br>Confirmed Cases 0\", \"West Sussex<br>Confirmed Cases 3\", \"Westminster<br>Confirmed Cases 5\", \"Wigan<br>Confirmed Cases 3\", \"Wiltshire<br>Confirmed Cases 4\", \"Windsor and Maidenhead<br>Confirmed Cases 1\", \"Wirral<br>Confirmed Cases 1\", \"Wokingham<br>Confirmed Cases 3\", \"Wolverhampton<br>Confirmed Cases 3\", \"Worcestershire<br>Confirmed Cases 0\", \"York<br>Confirmed Cases 3\"], \"type\": \"scattergeo\"}],\n",
       "                        {\"geo\": {\"center\": {\"lat\": 46.480649325, \"lon\": -37.5925}, \"landcolor\": \"rgb(217, 217, 217)\", \"projection\": {\"scale\": 8, \"type\": \"azimuthal equal area\"}, \"resolution\": 50, \"scope\": \"europe\", \"showocean\": true}, \"template\": {\"data\": {\"bar\": [{\"error_x\": {\"color\": \"#2a3f5f\"}, \"error_y\": {\"color\": \"#2a3f5f\"}, \"marker\": {\"line\": {\"color\": \"#E5ECF6\", \"width\": 0.5}}, \"type\": \"bar\"}], \"barpolar\": [{\"marker\": {\"line\": {\"color\": \"#E5ECF6\", \"width\": 0.5}}, \"type\": \"barpolar\"}], \"carpet\": [{\"aaxis\": {\"endlinecolor\": \"#2a3f5f\", \"gridcolor\": \"white\", \"linecolor\": \"white\", \"minorgridcolor\": \"white\", \"startlinecolor\": \"#2a3f5f\"}, \"baxis\": {\"endlinecolor\": \"#2a3f5f\", \"gridcolor\": \"white\", \"linecolor\": \"white\", \"minorgridcolor\": \"white\", \"startlinecolor\": \"#2a3f5f\"}, \"type\": \"carpet\"}], \"choropleth\": [{\"colorbar\": {\"outlinewidth\": 0, \"ticks\": \"\"}, \"type\": \"choropleth\"}], \"contour\": [{\"colorbar\": {\"outlinewidth\": 0, \"ticks\": \"\"}, \"colorscale\": [[0.0, \"#0d0887\"], [0.1111111111111111, \"#46039f\"], [0.2222222222222222, \"#7201a8\"], [0.3333333333333333, \"#9c179e\"], [0.4444444444444444, \"#bd3786\"], [0.5555555555555556, \"#d8576b\"], [0.6666666666666666, \"#ed7953\"], [0.7777777777777778, \"#fb9f3a\"], [0.8888888888888888, \"#fdca26\"], [1.0, \"#f0f921\"]], \"type\": \"contour\"}], \"contourcarpet\": [{\"colorbar\": {\"outlinewidth\": 0, \"ticks\": \"\"}, \"type\": \"contourcarpet\"}], \"heatmap\": [{\"colorbar\": {\"outlinewidth\": 0, \"ticks\": \"\"}, \"colorscale\": [[0.0, \"#0d0887\"], [0.1111111111111111, \"#46039f\"], [0.2222222222222222, \"#7201a8\"], [0.3333333333333333, \"#9c179e\"], [0.4444444444444444, \"#bd3786\"], [0.5555555555555556, \"#d8576b\"], [0.6666666666666666, \"#ed7953\"], [0.7777777777777778, \"#fb9f3a\"], [0.8888888888888888, \"#fdca26\"], [1.0, \"#f0f921\"]], \"type\": \"heatmap\"}], \"heatmapgl\": [{\"colorbar\": {\"outlinewidth\": 0, \"ticks\": \"\"}, \"colorscale\": [[0.0, \"#0d0887\"], [0.1111111111111111, \"#46039f\"], [0.2222222222222222, \"#7201a8\"], [0.3333333333333333, \"#9c179e\"], [0.4444444444444444, \"#bd3786\"], [0.5555555555555556, \"#d8576b\"], [0.6666666666666666, \"#ed7953\"], [0.7777777777777778, \"#fb9f3a\"], [0.8888888888888888, \"#fdca26\"], [1.0, \"#f0f921\"]], \"type\": \"heatmapgl\"}], \"histogram\": [{\"marker\": {\"colorbar\": {\"outlinewidth\": 0, \"ticks\": \"\"}}, \"type\": \"histogram\"}], \"histogram2d\": [{\"colorbar\": {\"outlinewidth\": 0, \"ticks\": \"\"}, \"colorscale\": [[0.0, \"#0d0887\"], [0.1111111111111111, \"#46039f\"], [0.2222222222222222, \"#7201a8\"], [0.3333333333333333, \"#9c179e\"], [0.4444444444444444, \"#bd3786\"], [0.5555555555555556, \"#d8576b\"], [0.6666666666666666, \"#ed7953\"], [0.7777777777777778, \"#fb9f3a\"], [0.8888888888888888, \"#fdca26\"], [1.0, \"#f0f921\"]], \"type\": \"histogram2d\"}], \"histogram2dcontour\": [{\"colorbar\": {\"outlinewidth\": 0, \"ticks\": \"\"}, \"colorscale\": [[0.0, \"#0d0887\"], [0.1111111111111111, \"#46039f\"], [0.2222222222222222, \"#7201a8\"], [0.3333333333333333, \"#9c179e\"], [0.4444444444444444, \"#bd3786\"], [0.5555555555555556, \"#d8576b\"], [0.6666666666666666, \"#ed7953\"], [0.7777777777777778, \"#fb9f3a\"], [0.8888888888888888, \"#fdca26\"], [1.0, \"#f0f921\"]], \"type\": \"histogram2dcontour\"}], \"mesh3d\": [{\"colorbar\": {\"outlinewidth\": 0, \"ticks\": \"\"}, \"type\": \"mesh3d\"}], \"parcoords\": [{\"line\": {\"colorbar\": {\"outlinewidth\": 0, \"ticks\": \"\"}}, \"type\": \"parcoords\"}], \"pie\": [{\"automargin\": true, \"type\": \"pie\"}], \"scatter\": [{\"marker\": {\"colorbar\": {\"outlinewidth\": 0, \"ticks\": \"\"}}, \"type\": \"scatter\"}], \"scatter3d\": [{\"line\": {\"colorbar\": {\"outlinewidth\": 0, \"ticks\": \"\"}}, \"marker\": {\"colorbar\": {\"outlinewidth\": 0, \"ticks\": \"\"}}, \"type\": \"scatter3d\"}], \"scattercarpet\": [{\"marker\": {\"colorbar\": {\"outlinewidth\": 0, \"ticks\": \"\"}}, \"type\": \"scattercarpet\"}], \"scattergeo\": [{\"marker\": {\"colorbar\": {\"outlinewidth\": 0, \"ticks\": \"\"}}, \"type\": \"scattergeo\"}], \"scattergl\": [{\"marker\": {\"colorbar\": {\"outlinewidth\": 0, \"ticks\": \"\"}}, \"type\": \"scattergl\"}], \"scattermapbox\": [{\"marker\": {\"colorbar\": {\"outlinewidth\": 0, \"ticks\": \"\"}}, \"type\": \"scattermapbox\"}], \"scatterpolar\": [{\"marker\": {\"colorbar\": {\"outlinewidth\": 0, \"ticks\": \"\"}}, \"type\": \"scatterpolar\"}], \"scatterpolargl\": [{\"marker\": {\"colorbar\": {\"outlinewidth\": 0, \"ticks\": \"\"}}, \"type\": \"scatterpolargl\"}], \"scatterternary\": [{\"marker\": {\"colorbar\": {\"outlinewidth\": 0, \"ticks\": \"\"}}, \"type\": \"scatterternary\"}], \"surface\": [{\"colorbar\": {\"outlinewidth\": 0, \"ticks\": \"\"}, \"colorscale\": [[0.0, \"#0d0887\"], [0.1111111111111111, \"#46039f\"], [0.2222222222222222, \"#7201a8\"], [0.3333333333333333, \"#9c179e\"], [0.4444444444444444, \"#bd3786\"], [0.5555555555555556, \"#d8576b\"], [0.6666666666666666, \"#ed7953\"], [0.7777777777777778, \"#fb9f3a\"], [0.8888888888888888, \"#fdca26\"], [1.0, \"#f0f921\"]], \"type\": \"surface\"}], \"table\": [{\"cells\": {\"fill\": {\"color\": \"#EBF0F8\"}, \"line\": {\"color\": \"white\"}}, \"header\": {\"fill\": {\"color\": \"#C8D4E3\"}, \"line\": {\"color\": \"white\"}}, \"type\": \"table\"}]}, \"layout\": {\"annotationdefaults\": {\"arrowcolor\": \"#2a3f5f\", \"arrowhead\": 0, \"arrowwidth\": 1}, \"coloraxis\": {\"colorbar\": {\"outlinewidth\": 0, \"ticks\": \"\"}}, \"colorscale\": {\"diverging\": [[0, \"#8e0152\"], [0.1, \"#c51b7d\"], [0.2, \"#de77ae\"], [0.3, \"#f1b6da\"], [0.4, \"#fde0ef\"], [0.5, \"#f7f7f7\"], [0.6, \"#e6f5d0\"], [0.7, \"#b8e186\"], [0.8, \"#7fbc41\"], [0.9, \"#4d9221\"], [1, \"#276419\"]], \"sequential\": [[0.0, \"#0d0887\"], [0.1111111111111111, \"#46039f\"], [0.2222222222222222, \"#7201a8\"], [0.3333333333333333, \"#9c179e\"], [0.4444444444444444, \"#bd3786\"], [0.5555555555555556, \"#d8576b\"], [0.6666666666666666, \"#ed7953\"], [0.7777777777777778, \"#fb9f3a\"], [0.8888888888888888, \"#fdca26\"], [1.0, \"#f0f921\"]], \"sequentialminus\": [[0.0, \"#0d0887\"], [0.1111111111111111, \"#46039f\"], [0.2222222222222222, \"#7201a8\"], [0.3333333333333333, \"#9c179e\"], [0.4444444444444444, \"#bd3786\"], [0.5555555555555556, \"#d8576b\"], [0.6666666666666666, \"#ed7953\"], [0.7777777777777778, \"#fb9f3a\"], [0.8888888888888888, \"#fdca26\"], [1.0, \"#f0f921\"]]}, \"colorway\": [\"#636efa\", \"#EF553B\", \"#00cc96\", \"#ab63fa\", \"#FFA15A\", \"#19d3f3\", \"#FF6692\", \"#B6E880\", \"#FF97FF\", \"#FECB52\"], \"font\": {\"color\": \"#2a3f5f\"}, \"geo\": {\"bgcolor\": \"white\", \"lakecolor\": \"white\", \"landcolor\": \"#E5ECF6\", \"showlakes\": true, \"showland\": true, \"subunitcolor\": \"white\"}, \"hoverlabel\": {\"align\": \"left\"}, \"hovermode\": \"closest\", \"legend\": {\"orientation\": \"h\", \"x\": 0.5, \"xanchor\": \"center\", \"y\": 1.1}, \"mapbox\": {\"style\": \"light\"}, \"margin\": {\"b\": 0, \"l\": 0, \"r\": 0, \"t\": 0}, \"paper_bgcolor\": \"white\", \"plot_bgcolor\": \"#E5ECF6\", \"polar\": {\"angularaxis\": {\"gridcolor\": \"white\", \"linecolor\": \"white\", \"ticks\": \"\"}, \"bgcolor\": \"#E5ECF6\", \"radialaxis\": {\"gridcolor\": \"white\", \"linecolor\": \"white\", \"ticks\": \"\"}}, \"scene\": {\"xaxis\": {\"backgroundcolor\": \"#E5ECF6\", \"gridcolor\": \"white\", \"gridwidth\": 2, \"linecolor\": \"white\", \"showbackground\": true, \"ticks\": \"\", \"zerolinecolor\": \"white\"}, \"yaxis\": {\"backgroundcolor\": \"#E5ECF6\", \"gridcolor\": \"white\", \"gridwidth\": 2, \"linecolor\": \"white\", \"showbackground\": true, \"ticks\": \"\", \"zerolinecolor\": \"white\"}, \"zaxis\": {\"backgroundcolor\": \"#E5ECF6\", \"gridcolor\": \"white\", \"gridwidth\": 2, \"linecolor\": \"white\", \"showbackground\": true, \"ticks\": \"\", \"zerolinecolor\": \"white\"}}, \"shapedefaults\": {\"line\": {\"color\": \"#2a3f5f\"}}, \"ternary\": {\"aaxis\": {\"gridcolor\": \"white\", \"linecolor\": \"white\", \"ticks\": \"\"}, \"baxis\": {\"gridcolor\": \"white\", \"linecolor\": \"white\", \"ticks\": \"\"}, \"bgcolor\": \"#E5ECF6\", \"caxis\": {\"gridcolor\": \"white\", \"linecolor\": \"white\", \"ticks\": \"\"}}, \"title\": {\"x\": 0.05}, \"xaxis\": {\"automargin\": true, \"gridcolor\": \"white\", \"linecolor\": \"white\", \"ticks\": \"\", \"title\": {\"standoff\": 15}, \"zerolinecolor\": \"white\", \"zerolinewidth\": 2}, \"yaxis\": {\"automargin\": true, \"gridcolor\": \"white\", \"linecolor\": \"white\", \"ticks\": \"\", \"title\": {\"standoff\": 15}, \"zerolinecolor\": \"white\", \"zerolinewidth\": 2}}}},\n",
       "                        {\"responsive\": true}\n",
       "                    ).then(function(){\n",
       "                            \n",
       "var gd = document.getElementById('043d1ae9-70fb-4693-aeea-cadaf30a482a');\n",
       "var x = new MutationObserver(function (mutations, observer) {{\n",
       "        var display = window.getComputedStyle(gd).display;\n",
       "        if (!display || display === 'none') {{\n",
       "            console.log([gd, 'removed!']);\n",
       "            Plotly.purge(gd);\n",
       "            observer.disconnect();\n",
       "        }}\n",
       "}});\n",
       "\n",
       "// Listen for the removal of the full notebook cells\n",
       "var notebookContainer = gd.closest('#notebook-container');\n",
       "if (notebookContainer) {{\n",
       "    x.observe(notebookContainer, {childList: true});\n",
       "}}\n",
       "\n",
       "// Listen for the clearing of the current output cell\n",
       "var outputEl = gd.closest('.output');\n",
       "if (outputEl) {{\n",
       "    x.observe(outputEl, {childList: true});\n",
       "}}\n",
       "\n",
       "                        })\n",
       "                };\n",
       "                });\n",
       "            </script>\n",
       "        </div>"
      ]
     },
     "metadata": {},
     "output_type": "display_data"
    }
   ],
   "source": [
    "data['text'] = data['local_authority'] + '<br>Confirmed Cases ' + (data['confirmed_cases']).astype(str)\n",
    "        \n",
    "fig = go.Figure()\n",
    "\n",
    "fig.add_trace(go.Scattergeo(\n",
    "    locationmode = 'country names',\n",
    "    lon = data['lon'],\n",
    "    lat = data['lat'],\n",
    "    text = data['text'],\n",
    "    marker = dict(\n",
    "        size = data['confirmed_cases']/.1,\n",
    "        color = 'rgb(200,0,0)',\n",
    "        line_color = 'rgb(122,0,0)',\n",
    "        line_width = 0.5,\n",
    "        sizemode = 'area')\n",
    "))\n",
    "\n",
    "fig.update_layout(\n",
    "    geo = dict(\n",
    "        resolution = 50,\n",
    "        scope = 'europe',\n",
    "        center = {'lat': (data.lat.min() + data.lat.max())/2,\n",
    "                'lon': (data.lon.min() + data.lon.max())/2},\n",
    "        projection = go.layout.geo.Projection(\n",
    "            type = 'azimuthal equal area',\n",
    "            scale = 8\n",
    "        ),\n",
    "        landcolor = 'rgb(217, 217, 217)',\n",
    "        showocean = True,\n",
    "    )\n",
    ")\n",
    "\n",
    "fig.show()"
   ]
  },
  {
   "cell_type": "code",
   "execution_count": null,
   "metadata": {},
   "outputs": [],
   "source": []
  },
  {
   "cell_type": "code",
   "execution_count": null,
   "metadata": {},
   "outputs": [],
   "source": []
  }
 ],
 "metadata": {
  "kernelspec": {
   "display_name": "Python 3",
   "language": "python",
   "name": "python3"
  },
  "language_info": {
   "codemirror_mode": {
    "name": "ipython",
    "version": 3
   },
   "file_extension": ".py",
   "mimetype": "text/x-python",
   "name": "python",
   "nbconvert_exporter": "python",
   "pygments_lexer": "ipython3",
   "version": "3.7.0"
  }
 },
 "nbformat": 4,
 "nbformat_minor": 2
}
